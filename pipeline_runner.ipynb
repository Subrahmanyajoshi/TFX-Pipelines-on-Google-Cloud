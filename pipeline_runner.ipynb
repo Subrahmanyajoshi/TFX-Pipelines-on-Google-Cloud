{
 "cells": [
  {
   "cell_type": "code",
   "execution_count": null,
   "id": "cd3b263e-0d9c-46b2-9472-06d478e69b37",
   "metadata": {},
   "outputs": [],
   "source": [
    "# ! pip3 install kfp==1.8.10\n",
    "# ! pip3 install tfx==1.5.0\n",
    "# ! pip3 install pyparsing==2.4.2"
   ]
  },
  {
   "cell_type": "code",
   "execution_count": 1,
   "id": "64f305f6-ba05-4c53-8a45-8bbcb20abccf",
   "metadata": {},
   "outputs": [],
   "source": [
    "import tensorflow as tf\n",
    "import tfx\n",
    "import os"
   ]
  },
  {
   "cell_type": "code",
   "execution_count": 2,
   "id": "51e65aac-c310-4c48-aeb9-1b2f02a3faf9",
   "metadata": {},
   "outputs": [],
   "source": [
    "GCP_REGION = 'us-central1'\n",
    "ARTIFACT_STORE_URI = 'gs://text-analysis-323506-artifact-store'\n",
    "ENDPOINT = 'https://1b7bb986cc987470-dot-us-central1.pipelines.googleusercontent.com'\n",
    "CUSTOM_SERVICE_ACCOUNT = 'my-api-sa@text-analysis-323506.iam.gserviceaccount.com'\n",
    "\n",
    "PROJECT_ID = !(gcloud config get-value core/project)\n",
    "PROJECT_ID = PROJECT_ID[0]"
   ]
  },
  {
   "cell_type": "code",
   "execution_count": 3,
   "id": "684d8eeb-1f3a-40b8-9dca-606c5f77a10d",
   "metadata": {},
   "outputs": [],
   "source": [
    "os.environ['GCP_REGION'] = GCP_REGION\n",
    "os.environ['ARTIFACT_STORE_URI'] = ARTIFACT_STORE_URI\n",
    "os.environ['CUSTOM_SERVICE_ACCOUNT'] = CUSTOM_SERVICE_ACCOUNT\n",
    "os.environ['PROJECT_ID'] = PROJECT_ID"
   ]
  },
  {
   "cell_type": "code",
   "execution_count": 4,
   "id": "b0127d67-e426-4a2f-b683-600f2a08ba9c",
   "metadata": {},
   "outputs": [],
   "source": [
    "PIPELINE_NAME = 'tfx_covertype_training'\n",
    "MODEL_NAME = 'tfx_covertype_classifier'\n",
    "DATA_ROOT_URI = 'gs://text-analysis-323506/covertype'\n",
    "CUSTOM_TFX_IMAGE = 'gcr.io/{}/{}'.format(PROJECT_ID, PIPELINE_NAME)\n",
    "RUNTIME_VERSION = '2.6'\n",
    "PYTHON_VERSION = '3.7'\n",
    "USE_KFP_SA=False\n",
    "ENABLE_TUNING=False"
   ]
  },
  {
   "cell_type": "code",
   "execution_count": 5,
   "id": "1b3bccb8-9a64-4c56-9e1c-6ef66d004f24",
   "metadata": {},
   "outputs": [],
   "source": [
    "os.environ['PIPELINE_NAME'] = PIPELINE_NAME\n",
    "os.environ['MODEL_NAME'] = MODEL_NAME\n",
    "os.environ['DATA_ROOT_URI'] = DATA_ROOT_URI\n",
    "os.environ['CUSTOM_TFX_IMAGE'] = CUSTOM_TFX_IMAGE\n",
    "os.environ['RUNTIME_VERSION'] = RUNTIME_VERSION\n",
    "os.environ['PYTHON_VERSION'] = PYTHON_VERSION\n",
    "os.environ['USE_KFP_SA'] = str(USE_KFP_SA)\n",
    "os.environ['ENABLE_TUNING'] = str(ENABLE_TUNING)"
   ]
  },
  {
   "cell_type": "code",
   "execution_count": 6,
   "id": "440b8646-149a-4ada-a893-040d35083c7c",
   "metadata": {},
   "outputs": [
    {
     "name": "stdout",
     "output_type": "stream",
     "text": [
      "/home/jupyter/TFX-Pipelines-on-Google-Cloud/pipeline\n"
     ]
    }
   ],
   "source": [
    "%cd pipeline"
   ]
  },
  {
   "cell_type": "code",
   "execution_count": 7,
   "id": "b643cca8-c340-4d19-9808-b17c80f431a9",
   "metadata": {},
   "outputs": [
    {
     "name": "stdout",
     "output_type": "stream",
     "text": [
      "CLI\n",
      "Compiling pipeline\n",
      "WARNING:absl:`custom_executor_spec` is deprecated. Please customize component directly.\n",
      "WARNING:absl:`transformed_examples` is deprecated. Please use `examples` instead.\n",
      "running bdist_wheel\n",
      "running build\n",
      "running build_py\n",
      "creating build\n",
      "creating build/lib\n",
      "copying pipeline.py -> build/lib\n",
      "copying runner.py -> build/lib\n",
      "copying preprocessing.py -> build/lib\n",
      "copying features.py -> build/lib\n",
      "copying config.py -> build/lib\n",
      "copying model.py -> build/lib\n",
      "/opt/conda/lib/python3.7/site-packages/setuptools/command/install.py:37: SetuptoolsDeprecationWarning: setup.py install is deprecated. Use build and pip and other standards-based tools.\n",
      "  setuptools.SetuptoolsDeprecationWarning,\n",
      "installing to /tmp/tmpczv6m_gz\n",
      "running install\n",
      "running install_lib\n",
      "copying build/lib/preprocessing.py -> /tmp/tmpczv6m_gz\n",
      "copying build/lib/features.py -> /tmp/tmpczv6m_gz\n",
      "copying build/lib/pipeline.py -> /tmp/tmpczv6m_gz\n",
      "copying build/lib/config.py -> /tmp/tmpczv6m_gz\n",
      "copying build/lib/model.py -> /tmp/tmpczv6m_gz\n",
      "copying build/lib/runner.py -> /tmp/tmpczv6m_gz\n",
      "running install_egg_info\n",
      "running egg_info\n",
      "creating tfx_user_code_Transform.egg-info\n",
      "writing tfx_user_code_Transform.egg-info/PKG-INFO\n",
      "writing dependency_links to tfx_user_code_Transform.egg-info/dependency_links.txt\n",
      "writing top-level names to tfx_user_code_Transform.egg-info/top_level.txt\n",
      "writing manifest file 'tfx_user_code_Transform.egg-info/SOURCES.txt'\n",
      "reading manifest file 'tfx_user_code_Transform.egg-info/SOURCES.txt'\n",
      "writing manifest file 'tfx_user_code_Transform.egg-info/SOURCES.txt'\n",
      "Copying tfx_user_code_Transform.egg-info to /tmp/tmpczv6m_gz/tfx_user_code_Transform-0.0+bf71de72f116bc10246a4e3d24a8cd30db495fe81f925b530adf12cc0339aeb6-py3.7.egg-info\n",
      "running install_scripts\n",
      "creating /tmp/tmpczv6m_gz/tfx_user_code_Transform-0.0+bf71de72f116bc10246a4e3d24a8cd30db495fe81f925b530adf12cc0339aeb6.dist-info/WHEEL\n",
      "creating '/tmp/tmpi4t6ij9t/tfx_user_code_Transform-0.0+bf71de72f116bc10246a4e3d24a8cd30db495fe81f925b530adf12cc0339aeb6-py3-none-any.whl' and adding '/tmp/tmpczv6m_gz' to it\n",
      "adding 'config.py'\n",
      "adding 'features.py'\n",
      "adding 'model.py'\n",
      "adding 'pipeline.py'\n",
      "adding 'preprocessing.py'\n",
      "adding 'runner.py'\n",
      "adding 'tfx_user_code_Transform-0.0+bf71de72f116bc10246a4e3d24a8cd30db495fe81f925b530adf12cc0339aeb6.dist-info/METADATA'\n",
      "adding 'tfx_user_code_Transform-0.0+bf71de72f116bc10246a4e3d24a8cd30db495fe81f925b530adf12cc0339aeb6.dist-info/WHEEL'\n",
      "adding 'tfx_user_code_Transform-0.0+bf71de72f116bc10246a4e3d24a8cd30db495fe81f925b530adf12cc0339aeb6.dist-info/top_level.txt'\n",
      "adding 'tfx_user_code_Transform-0.0+bf71de72f116bc10246a4e3d24a8cd30db495fe81f925b530adf12cc0339aeb6.dist-info/RECORD'\n",
      "removing /tmp/tmpczv6m_gz\n",
      "running bdist_wheel\n",
      "running build\n",
      "running build_py\n",
      "creating build\n",
      "creating build/lib\n",
      "copying pipeline.py -> build/lib\n",
      "copying runner.py -> build/lib\n",
      "copying preprocessing.py -> build/lib\n",
      "copying features.py -> build/lib\n",
      "copying config.py -> build/lib\n",
      "copying model.py -> build/lib\n",
      "/opt/conda/lib/python3.7/site-packages/setuptools/command/install.py:37: SetuptoolsDeprecationWarning: setup.py install is deprecated. Use build and pip and other standards-based tools.\n",
      "  setuptools.SetuptoolsDeprecationWarning,\n",
      "installing to /tmp/tmpkput336e\n",
      "running install\n",
      "running install_lib\n",
      "copying build/lib/preprocessing.py -> /tmp/tmpkput336e\n",
      "copying build/lib/features.py -> /tmp/tmpkput336e\n",
      "copying build/lib/pipeline.py -> /tmp/tmpkput336e\n",
      "copying build/lib/config.py -> /tmp/tmpkput336e\n",
      "copying build/lib/model.py -> /tmp/tmpkput336e\n",
      "copying build/lib/runner.py -> /tmp/tmpkput336e\n",
      "running install_egg_info\n",
      "running egg_info\n",
      "creating tfx_user_code_Trainer.egg-info\n",
      "writing tfx_user_code_Trainer.egg-info/PKG-INFO\n",
      "writing dependency_links to tfx_user_code_Trainer.egg-info/dependency_links.txt\n",
      "writing top-level names to tfx_user_code_Trainer.egg-info/top_level.txt\n",
      "writing manifest file 'tfx_user_code_Trainer.egg-info/SOURCES.txt'\n",
      "reading manifest file 'tfx_user_code_Trainer.egg-info/SOURCES.txt'\n",
      "writing manifest file 'tfx_user_code_Trainer.egg-info/SOURCES.txt'\n",
      "Copying tfx_user_code_Trainer.egg-info to /tmp/tmpkput336e/tfx_user_code_Trainer-0.0+bf71de72f116bc10246a4e3d24a8cd30db495fe81f925b530adf12cc0339aeb6-py3.7.egg-info\n",
      "running install_scripts\n",
      "creating /tmp/tmpkput336e/tfx_user_code_Trainer-0.0+bf71de72f116bc10246a4e3d24a8cd30db495fe81f925b530adf12cc0339aeb6.dist-info/WHEEL\n",
      "creating '/tmp/tmp1i8jesf6/tfx_user_code_Trainer-0.0+bf71de72f116bc10246a4e3d24a8cd30db495fe81f925b530adf12cc0339aeb6-py3-none-any.whl' and adding '/tmp/tmpkput336e' to it\n",
      "adding 'config.py'\n",
      "adding 'features.py'\n",
      "adding 'model.py'\n",
      "adding 'pipeline.py'\n",
      "adding 'preprocessing.py'\n",
      "adding 'runner.py'\n",
      "adding 'tfx_user_code_Trainer-0.0+bf71de72f116bc10246a4e3d24a8cd30db495fe81f925b530adf12cc0339aeb6.dist-info/METADATA'\n",
      "adding 'tfx_user_code_Trainer-0.0+bf71de72f116bc10246a4e3d24a8cd30db495fe81f925b530adf12cc0339aeb6.dist-info/WHEEL'\n",
      "adding 'tfx_user_code_Trainer-0.0+bf71de72f116bc10246a4e3d24a8cd30db495fe81f925b530adf12cc0339aeb6.dist-info/top_level.txt'\n",
      "adding 'tfx_user_code_Trainer-0.0+bf71de72f116bc10246a4e3d24a8cd30db495fe81f925b530adf12cc0339aeb6.dist-info/RECORD'\n",
      "removing /tmp/tmpkput336e\n",
      "/opt/conda/lib/python3.7/site-packages/kfp/dsl/_container_op.py:1264: FutureWarning: Please create reusable components instead of constructing ContainerOp instances directly. Reusable components are shareable, portable and have compatibility and support guarantees. Please see the documentation: https://www.kubeflow.org/docs/pipelines/sdk/component-development/#writing-your-component-definition-file The components can be created manually (or, in case of python, using kfp.components.create_component_from_func or func_to_container_op) and then loaded using kfp.components.load_component_from_file, load_component_from_uri or load_component_from_text: https://kubeflow-pipelines.readthedocs.io/en/stable/source/kfp.components.html#kfp.components.load_component_from_file\n",
      "  category=FutureWarning,\n",
      "Pipeline compiled successfully.\n",
      "Pipeline package path: /home/jupyter/TFX-Pipelines-on-Google-Cloud/pipeline/tfx_covertype_training.tar.gz\n"
     ]
    }
   ],
   "source": [
    "! tfx pipeline compile --engine kubeflow --pipeline_path runner.py"
   ]
  },
  {
   "cell_type": "code",
   "execution_count": null,
   "id": "784c559e-7234-41ae-a312-5f3e5f8dad24",
   "metadata": {},
   "outputs": [],
   "source": []
  }
 ],
 "metadata": {
  "environment": {
   "kernel": "python3",
   "name": "tf2-gpu.2-6.m87",
   "type": "gcloud",
   "uri": "gcr.io/deeplearning-platform-release/tf2-gpu.2-6:m87"
  },
  "kernelspec": {
   "display_name": "Python 3",
   "language": "python",
   "name": "python3"
  },
  "language_info": {
   "codemirror_mode": {
    "name": "ipython",
    "version": 3
   },
   "file_extension": ".py",
   "mimetype": "text/x-python",
   "name": "python",
   "nbconvert_exporter": "python",
   "pygments_lexer": "ipython3",
   "version": "3.7.12"
  }
 },
 "nbformat": 4,
 "nbformat_minor": 5
}
