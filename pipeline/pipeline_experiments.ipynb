{
 "cells": [
  {
   "cell_type": "markdown",
   "id": "9712edf4-cc65-4102-b660-f1c71255e6eb",
   "metadata": {},
   "source": [
    "## TFX Pipelines"
   ]
  },
  {
   "cell_type": "markdown",
   "id": "627bb11a-bb34-4c27-9e66-22d7326cd48e",
   "metadata": {},
   "source": [
    "#### Generate Examples"
   ]
  },
  {
   "cell_type": "code",
   "execution_count": 7,
   "id": "21846c83-3f18-4322-a28a-791fb2df3135",
   "metadata": {},
   "outputs": [],
   "source": [
    "# Temporary commands to unzip the zip file in Google Cloud Storage\n",
    "# ! gsutil -m cp gs://text-analysis-323506/train_data/train_val.zip ./\n",
    "# ! unzip train_val.zip\n",
    "# ! gunzip *.csv.gz\n",
    "# ! gsutil -m mv *.csv gs://text-analysis-323506/train_data/"
   ]
  },
  {
   "cell_type": "code",
   "execution_count": null,
   "id": "fe0821b3-45c2-48bc-bd85-990b2bb56661",
   "metadata": {},
   "outputs": [],
   "source": [
    "# ! pip3 install tfx"
   ]
  },
  {
   "cell_type": "markdown",
   "id": "b7060e62-b1be-4ad1-8465-12af3e146ab1",
   "metadata": {},
   "source": [
    " "
   ]
  },
  {
   "cell_type": "code",
   "execution_count": 35,
   "id": "cf26bac1-ea48-4f6e-a122-62b02243242f",
   "metadata": {},
   "outputs": [],
   "source": [
    "import time\n",
    "import os\n",
    "\n",
    "import tfx\n",
    "\n",
    "import absl\n",
    "import os\n",
    "import tempfile\n",
    "import time\n",
    "\n",
    "import tensorflow as tf\n",
    "import tensorflow_data_validation as tfdv\n",
    "import tensorflow_model_analysis as tfma\n",
    "import tensorflow_transform as tft\n",
    "import tensorflow as tf\n",
    "from tfx.components.common_nodes.importer_node import ImporterNode\n",
    "\n",
    "from tfx.orchestration.experimental.interactive.interactive_context import InteractiveContext\n",
    "from tfx.proto import example_gen_pb2\n",
    "from tensorflow_metadata.proto.v0 import schema_pb2, statistics_pb2, anomalies_pb2\n",
    "from tfx.components import StatisticsGen, CsvExampleGen, SchemaGen"
   ]
  },
  {
   "cell_type": "code",
   "execution_count": 4,
   "id": "ff57fc65-65f5-47b3-a04a-5c5220b5fa9b",
   "metadata": {},
   "outputs": [
    {
     "data": {
      "text/plain": [
       "'2.6.2'"
      ]
     },
     "execution_count": 4,
     "metadata": {},
     "output_type": "execute_result"
    }
   ],
   "source": [
    "tf.__version__"
   ]
  },
  {
   "cell_type": "code",
   "execution_count": 5,
   "id": "9e534f21-6a3c-426a-87f9-681ee43e5220",
   "metadata": {},
   "outputs": [
    {
     "data": {
      "text/plain": [
       "'1.4.0'"
      ]
     },
     "execution_count": 5,
     "metadata": {},
     "output_type": "execute_result"
    }
   ],
   "source": [
    "tfx.__version__"
   ]
  },
  {
   "cell_type": "code",
   "execution_count": 33,
   "id": "3632fc6f-bc47-4128-b20c-c89a8c19e3ba",
   "metadata": {},
   "outputs": [],
   "source": [
    "DATA_ROOT = 'gs://text-analysis-323506/train_data/'\n",
    "ARTIFACT_STORE = os.path.join(os.sep, 'home', 'jupyter', 'artifact-store')\n",
    "SERVING_MODEL_DIR=os.path.join(os.sep, 'home', 'jupyter', 'serving_model')"
   ]
  },
  {
   "cell_type": "code",
   "execution_count": 7,
   "id": "42f485b5-d4df-4e6e-9139-1273a8ae28c0",
   "metadata": {},
   "outputs": [],
   "source": [
    "PIPELINE_NAME = 'sentiment-analysis'\n",
    "PIPELINE_ROOT = os.path.join('/home/jupyter/', PIPELINE_NAME, time.strftime(\"%Y%m%d_%H%M%S\"))\n",
    "os.makedirs(PIPELINE_ROOT, exist_ok=True)"
   ]
  },
  {
   "cell_type": "code",
   "execution_count": 8,
   "id": "b161a9f4-8feb-4cf6-8afb-e47a7e13e35f",
   "metadata": {},
   "outputs": [
    {
     "name": "stderr",
     "output_type": "stream",
     "text": [
      "WARNING:absl:InteractiveContext metadata_connection_config not provided: using SQLite ML Metadata database at /home/jupyter/sentiment-analysis/20211123_175325/metadata.sqlite.\n"
     ]
    }
   ],
   "source": [
    "context = InteractiveContext(\n",
    "    pipeline_name=PIPELINE_NAME,\n",
    "    pipeline_root=PIPELINE_ROOT,\n",
    "    metadata_connection_config=None)"
   ]
  },
  {
   "cell_type": "markdown",
   "id": "4d4dfe0f-8613-4aab-b195-adb41b167ce1",
   "metadata": {},
   "source": [
    " "
   ]
  },
  {
   "cell_type": "markdown",
   "id": "8798f817-27f5-4916-9776-ef24ee90d435",
   "metadata": {},
   "source": [
    "### CSV Example Generator"
   ]
  },
  {
   "cell_type": "code",
   "execution_count": 9,
   "id": "7d2eff15-6faa-4f8b-8cd9-9890402d2072",
   "metadata": {},
   "outputs": [],
   "source": [
    "output_config = example_gen_pb2.Output(\n",
    "    split_config=example_gen_pb2.SplitConfig(splits=[        \n",
    "        example_gen_pb2.SplitConfig.Split(name='train', hash_buckets=4),\n",
    "        example_gen_pb2.SplitConfig.Split(name='eval', hash_buckets=1)\n",
    "    ]))"
   ]
  },
  {
   "cell_type": "code",
   "execution_count": 10,
   "id": "88e2a524-ef71-405a-a387-272f759ee90f",
   "metadata": {},
   "outputs": [],
   "source": [
    "example_gen = CsvExampleGen(\n",
    "    input_base=DATA_ROOT,\n",
    "    output_config=output_config)"
   ]
  },
  {
   "cell_type": "code",
   "execution_count": null,
   "id": "19ff90b9-43ca-4a63-afac-8ec27d417f5f",
   "metadata": {},
   "outputs": [],
   "source": [
    "context.run(example_gen)"
   ]
  },
  {
   "cell_type": "code",
   "execution_count": 12,
   "id": "76579e9c-3a52-4791-8dd3-9c8d37c822e6",
   "metadata": {},
   "outputs": [],
   "source": [
    "examples_uri = example_gen.outputs['examples'].get()[0].uri"
   ]
  },
  {
   "cell_type": "code",
   "execution_count": 13,
   "id": "70b17c85-7ebb-4ca0-87ab-523dfb68f431",
   "metadata": {},
   "outputs": [],
   "source": [
    "tfrecord_filenames = [os.path.join(examples_uri, 'Split-train', name)\n",
    "                      for name in os.listdir(os.path.join(examples_uri, 'Split-train'))]"
   ]
  },
  {
   "cell_type": "code",
   "execution_count": 14,
   "id": "246efa2b-3ded-4193-83df-64efbf2c120f",
   "metadata": {},
   "outputs": [
    {
     "name": "stderr",
     "output_type": "stream",
     "text": [
      "2021-11-23 17:56:20.085763: I tensorflow/core/common_runtime/process_util.cc:146] Creating new thread pool with default inter op setting: 2. Tune using inter_op_parallelism_threads for best performance.\n"
     ]
    }
   ],
   "source": [
    "dataset = tf.data.TFRecordDataset(tfrecord_filenames, compression_type=\"GZIP\")"
   ]
  },
  {
   "cell_type": "code",
   "execution_count": 15,
   "id": "9f689416-400d-44e4-a2ef-ff8f56963354",
   "metadata": {},
   "outputs": [
    {
     "name": "stdout",
     "output_type": "stream",
     "text": [
      "input: [b'myattorney home business looking account prose litigant state federal lawsuite maintain hisher files']\n",
      "labels: [1]\n",
      "******\n",
      "input: [b'great book liked book sarah plain tall authors name patricia maclachen characters names caleb sarah anna papa though book interestingit first started caleb siting fire asking questions mama singing songs anna explaining born mama died sarah answered papas letter came live sarah taught caleb swim anybody gets book really enjoy']\n",
      "labels: [0]\n",
      "******\n"
     ]
    },
    {
     "name": "stderr",
     "output_type": "stream",
     "text": [
      "2021-11-23 17:56:20.179374: I tensorflow/compiler/mlir/mlir_graph_optimization_pass.cc:185] None of the MLIR Optimization Passes are enabled (registered 2)\n"
     ]
    }
   ],
   "source": [
    "for tfrecord in dataset.take(2):\n",
    "    example = tf.train.Example()\n",
    "    example.ParseFromString(tfrecord.numpy())\n",
    "    for name, feature in example.features.feature.items():\n",
    "        if feature.HasField('bytes_list'):\n",
    "            value = feature.bytes_list.value\n",
    "        if feature.HasField('float_list'):\n",
    "            value = feature.float_list.value\n",
    "        if feature.HasField('int64_list'):\n",
    "            value = feature.int64_list.value\n",
    "        print('{}: {}'.format(name, value))\n",
    "    print('******')"
   ]
  },
  {
   "cell_type": "markdown",
   "id": "cdc0ae16-ba34-4f5d-83b5-57b38df9f250",
   "metadata": {},
   "source": [
    "#### Train and eval datasets have been created properly !"
   ]
  },
  {
   "cell_type": "markdown",
   "id": "c51ee28f-1ef1-47ed-a5f1-0f4a49c839f3",
   "metadata": {},
   "source": [
    " "
   ]
  },
  {
   "cell_type": "markdown",
   "id": "f1941434-58e2-412c-8a37-111052bb8d6d",
   "metadata": {
    "tags": []
   },
   "source": [
    "### Statistics Generator"
   ]
  },
  {
   "cell_type": "code",
   "execution_count": 16,
   "id": "4dbae01a-a893-4de2-a403-a6a691ab9ff6",
   "metadata": {},
   "outputs": [],
   "source": [
    "statistics_gen = StatisticsGen(examples=example_gen.outputs['examples'])"
   ]
  },
  {
   "cell_type": "code",
   "execution_count": null,
   "id": "7f490db1-4e0e-4d70-9466-6fad8363e3c0",
   "metadata": {},
   "outputs": [],
   "source": [
    "context.run(statistics_gen)"
   ]
  },
  {
   "cell_type": "code",
   "execution_count": null,
   "id": "de85ed3b-8a37-4415-a88e-dfce6de805e0",
   "metadata": {},
   "outputs": [],
   "source": [
    "context.show(statistics_gen.outputs['statistics'])"
   ]
  },
  {
   "cell_type": "markdown",
   "id": "c4737174",
   "metadata": {},
   "source": [
    " "
   ]
  },
  {
   "cell_type": "markdown",
   "id": "f1d06f81",
   "metadata": {},
   "source": [
    "### Schema Generator"
   ]
  },
  {
   "cell_type": "code",
   "execution_count": 19,
   "id": "ec412517",
   "metadata": {},
   "outputs": [],
   "source": [
    "schema_gen = SchemaGen(\n",
    "    statistics=statistics_gen.outputs['statistics'],\n",
    "    infer_feature_shape=False)"
   ]
  },
  {
   "cell_type": "code",
   "execution_count": null,
   "id": "a9c69dee",
   "metadata": {},
   "outputs": [],
   "source": [
    "context.run(schema_gen)"
   ]
  },
  {
   "cell_type": "code",
   "execution_count": 28,
   "id": "2ed916bd",
   "metadata": {},
   "outputs": [
    {
     "data": {
      "text/html": [
       "<b>Artifact at /home/jupyter/sentiment-analysis/20211123_175325/SchemaGen/schema/3</b><br/><br/>"
      ],
      "text/plain": [
       "<IPython.core.display.HTML object>"
      ]
     },
     "metadata": {},
     "output_type": "display_data"
    },
    {
     "data": {
      "text/html": [
       "<div>\n",
       "<style scoped>\n",
       "    .dataframe tbody tr th:only-of-type {\n",
       "        vertical-align: middle;\n",
       "    }\n",
       "\n",
       "    .dataframe tbody tr th {\n",
       "        vertical-align: top;\n",
       "    }\n",
       "\n",
       "    .dataframe thead th {\n",
       "        text-align: right;\n",
       "    }\n",
       "</style>\n",
       "<table border=\"1\" class=\"dataframe\">\n",
       "  <thead>\n",
       "    <tr style=\"text-align: right;\">\n",
       "      <th></th>\n",
       "      <th>Type</th>\n",
       "      <th>Presence</th>\n",
       "      <th>Valency</th>\n",
       "      <th>Domain</th>\n",
       "    </tr>\n",
       "    <tr>\n",
       "      <th>Feature name</th>\n",
       "      <th></th>\n",
       "      <th></th>\n",
       "      <th></th>\n",
       "      <th></th>\n",
       "    </tr>\n",
       "  </thead>\n",
       "  <tbody>\n",
       "    <tr>\n",
       "      <th>'input'</th>\n",
       "      <td>BYTES</td>\n",
       "      <td>required</td>\n",
       "      <td>single</td>\n",
       "      <td>-</td>\n",
       "    </tr>\n",
       "    <tr>\n",
       "      <th>'labels'</th>\n",
       "      <td>INT</td>\n",
       "      <td>required</td>\n",
       "      <td>single</td>\n",
       "      <td>-</td>\n",
       "    </tr>\n",
       "  </tbody>\n",
       "</table>\n",
       "</div>"
      ],
      "text/plain": [
       "               Type  Presence Valency Domain\n",
       "Feature name                                \n",
       "'input'       BYTES  required  single      -\n",
       "'labels'        INT  required  single      -"
      ]
     },
     "metadata": {},
     "output_type": "display_data"
    }
   ],
   "source": [
    "context.show(schema_gen.outputs['schema'])"
   ]
  },
  {
   "cell_type": "markdown",
   "id": "0a193914",
   "metadata": {},
   "source": [
    " "
   ]
  },
  {
   "cell_type": "code",
   "execution_count": 29,
   "id": "62d90789",
   "metadata": {},
   "outputs": [],
   "source": [
    "schema_proto_path = '{}/{}'.format(schema_gen.outputs['schema'].get()[0].uri, 'schema.pbtxt')\n",
    "schema = tfdv.load_schema_text(schema_proto_path)"
   ]
  },
  {
   "cell_type": "code",
   "execution_count": 31,
   "id": "ff906e40-f2ca-4fde-aaea-2578db6b4f6b",
   "metadata": {},
   "outputs": [
    {
     "name": "stderr",
     "output_type": "stream",
     "text": [
      "WARNING:root:Replacing existing domain of feature \"labels\".\n"
     ]
    }
   ],
   "source": [
    "tfdv.set_domain(schema, 'labels', schema_pb2.IntDomain(name='labels', min=0, max=1, is_categorical=True))"
   ]
  },
  {
   "cell_type": "code",
   "execution_count": 32,
   "id": "36e22fc6-73a7-4f70-98b8-7d9ecd3f83c8",
   "metadata": {},
   "outputs": [
    {
     "data": {
      "text/html": [
       "<div>\n",
       "<style scoped>\n",
       "    .dataframe tbody tr th:only-of-type {\n",
       "        vertical-align: middle;\n",
       "    }\n",
       "\n",
       "    .dataframe tbody tr th {\n",
       "        vertical-align: top;\n",
       "    }\n",
       "\n",
       "    .dataframe thead th {\n",
       "        text-align: right;\n",
       "    }\n",
       "</style>\n",
       "<table border=\"1\" class=\"dataframe\">\n",
       "  <thead>\n",
       "    <tr style=\"text-align: right;\">\n",
       "      <th></th>\n",
       "      <th>Type</th>\n",
       "      <th>Presence</th>\n",
       "      <th>Valency</th>\n",
       "      <th>Domain</th>\n",
       "    </tr>\n",
       "    <tr>\n",
       "      <th>Feature name</th>\n",
       "      <th></th>\n",
       "      <th></th>\n",
       "      <th></th>\n",
       "      <th></th>\n",
       "    </tr>\n",
       "  </thead>\n",
       "  <tbody>\n",
       "    <tr>\n",
       "      <th>'input'</th>\n",
       "      <td>BYTES</td>\n",
       "      <td>required</td>\n",
       "      <td>single</td>\n",
       "      <td>-</td>\n",
       "    </tr>\n",
       "    <tr>\n",
       "      <th>'labels'</th>\n",
       "      <td>INT</td>\n",
       "      <td>required</td>\n",
       "      <td>single</td>\n",
       "      <td>min: 0; max: 1</td>\n",
       "    </tr>\n",
       "  </tbody>\n",
       "</table>\n",
       "</div>"
      ],
      "text/plain": [
       "               Type  Presence Valency          Domain\n",
       "Feature name                                         \n",
       "'input'       BYTES  required  single               -\n",
       "'labels'        INT  required  single  min: 0; max: 1"
      ]
     },
     "metadata": {},
     "output_type": "display_data"
    }
   ],
   "source": [
    "tfdv.display_schema(schema=schema)"
   ]
  },
  {
   "cell_type": "markdown",
   "id": "6845be53-1502-413d-947c-c816abbaac2c",
   "metadata": {},
   "source": [
    "#### Write schema to new file"
   ]
  },
  {
   "cell_type": "code",
   "execution_count": null,
   "id": "cfa51bfc-13ed-400e-9c39-733a4767e4e7",
   "metadata": {},
   "outputs": [],
   "source": [
    "schema_dir = os.path.join(ARTIFACT_STORE, 'schema')\n",
    "tf.io.gfile.makedirs(schema_dir)\n",
    "schema_file = os.path.join(schema_dir, 'schema.pbtxt')\n",
    "\n",
    "tfdv.write_schema_text(schema, schema_file)\n",
    "\n",
    "!cat {schema_file}"
   ]
  },
  {
   "cell_type": "markdown",
   "id": "109c4022-bf2d-4415-9f47-667781875bec",
   "metadata": {},
   "source": [
    "### Schema Importer"
   ]
  },
  {
   "cell_type": "code",
   "execution_count": 43,
   "id": "22a4cdde-4682-49d2-b071-c0c5ce34590f",
   "metadata": {},
   "outputs": [],
   "source": [
    "schema_importer = tfx.dsl.components.common.importer.Importer(\n",
    "      source_uri=schema_dir,\n",
    "      artifact_type=tfx.types.standard_artifacts.Schema).with_id(\n",
    "          'schema_importer') "
   ]
  },
  {
   "cell_type": "code",
   "execution_count": null,
   "id": "071182aa-d66e-4ceb-aba3-0dd070c1e2de",
   "metadata": {},
   "outputs": [],
   "source": [
    "context.run(schema_importer)"
   ]
  },
  {
   "cell_type": "code",
   "execution_count": 45,
   "id": "661e8e22-77ad-428c-be39-a32bd38c63e7",
   "metadata": {},
   "outputs": [
    {
     "data": {
      "text/html": [
       "<b>Artifact at /home/jupyter/artifact-store/schema</b><br/><br/>"
      ],
      "text/plain": [
       "<IPython.core.display.HTML object>"
      ]
     },
     "metadata": {},
     "output_type": "display_data"
    },
    {
     "data": {
      "text/html": [
       "<div>\n",
       "<style scoped>\n",
       "    .dataframe tbody tr th:only-of-type {\n",
       "        vertical-align: middle;\n",
       "    }\n",
       "\n",
       "    .dataframe tbody tr th {\n",
       "        vertical-align: top;\n",
       "    }\n",
       "\n",
       "    .dataframe thead th {\n",
       "        text-align: right;\n",
       "    }\n",
       "</style>\n",
       "<table border=\"1\" class=\"dataframe\">\n",
       "  <thead>\n",
       "    <tr style=\"text-align: right;\">\n",
       "      <th></th>\n",
       "      <th>Type</th>\n",
       "      <th>Presence</th>\n",
       "      <th>Valency</th>\n",
       "      <th>Domain</th>\n",
       "    </tr>\n",
       "    <tr>\n",
       "      <th>Feature name</th>\n",
       "      <th></th>\n",
       "      <th></th>\n",
       "      <th></th>\n",
       "      <th></th>\n",
       "    </tr>\n",
       "  </thead>\n",
       "  <tbody>\n",
       "    <tr>\n",
       "      <th>'input'</th>\n",
       "      <td>BYTES</td>\n",
       "      <td>required</td>\n",
       "      <td>single</td>\n",
       "      <td>-</td>\n",
       "    </tr>\n",
       "    <tr>\n",
       "      <th>'labels'</th>\n",
       "      <td>INT</td>\n",
       "      <td>required</td>\n",
       "      <td>single</td>\n",
       "      <td>min: 0; max: 1</td>\n",
       "    </tr>\n",
       "  </tbody>\n",
       "</table>\n",
       "</div>"
      ],
      "text/plain": [
       "               Type  Presence Valency          Domain\n",
       "Feature name                                         \n",
       "'input'       BYTES  required  single               -\n",
       "'labels'        INT  required  single  min: 0; max: 1"
      ]
     },
     "metadata": {},
     "output_type": "display_data"
    }
   ],
   "source": [
    "context.show(schema_importer.outputs['result'])"
   ]
  },
  {
   "cell_type": "code",
   "execution_count": null,
   "id": "89750d2a-d865-42ec-898d-50360e385c5b",
   "metadata": {},
   "outputs": [],
   "source": []
  }
 ],
 "metadata": {
  "environment": {
   "kernel": "python3",
   "name": "tf2-gpu.2-6.m86",
   "type": "gcloud",
   "uri": "gcr.io/deeplearning-platform-release/tf2-gpu.2-6:m86"
  },
  "kernelspec": {
   "display_name": "Python 3",
   "language": "python",
   "name": "python3"
  },
  "language_info": {
   "codemirror_mode": {
    "name": "ipython",
    "version": 3
   },
   "file_extension": ".py",
   "mimetype": "text/x-python",
   "name": "python",
   "nbconvert_exporter": "python",
   "pygments_lexer": "ipython3",
   "version": "3.7.12"
  }
 },
 "nbformat": 4,
 "nbformat_minor": 5
}
