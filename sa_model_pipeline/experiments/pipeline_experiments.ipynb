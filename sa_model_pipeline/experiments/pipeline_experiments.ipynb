{
 "cells": [
  {
   "cell_type": "markdown",
   "id": "9712edf4-cc65-4102-b660-f1c71255e6eb",
   "metadata": {},
   "source": [
    "## TFX Pipelines"
   ]
  },
  {
   "cell_type": "markdown",
   "id": "627bb11a-bb34-4c27-9e66-22d7326cd48e",
   "metadata": {},
   "source": [
    "#### Generate Examples"
   ]
  },
  {
   "cell_type": "code",
   "execution_count": null,
   "id": "21846c83-3f18-4322-a28a-791fb2df3135",
   "metadata": {},
   "outputs": [],
   "source": [
    "# Temporary commands to unzip the zip file in Google Cloud Storage\n",
    "# ! gsutil -m cp gs://text-analysis-323506/train_data/train_val.zip ./\n",
    "# ! unzip train_val.zip\n",
    "# ! gunzip *.csv.gz\n",
    "# ! gsutil -m mv *.csv gs://text-analysis-323506/train_data/"
   ]
  },
  {
   "cell_type": "code",
   "execution_count": null,
   "id": "fe0821b3-45c2-48bc-bd85-990b2bb56661",
   "metadata": {},
   "outputs": [],
   "source": [
    "# ! pip3 install tfx==1.4.0\n",
    "# ! pip install pyparsing==2.4.2"
   ]
  },
  {
   "cell_type": "markdown",
   "id": "fc206583-2d0c-4996-8f25-b03fa7697d24",
   "metadata": {},
   "source": [
    "__Restart kernel__"
   ]
  },
  {
   "cell_type": "code",
   "execution_count": 93,
   "id": "cf26bac1-ea48-4f6e-a122-62b02243242f",
   "metadata": {},
   "outputs": [],
   "source": [
    "import time\n",
    "import os\n",
    "import pickle\n",
    "\n",
    "import tfx\n",
    "\n",
    "import absl\n",
    "import os\n",
    "import tempfile\n",
    "import time\n",
    "\n",
    "import pandas as pd\n",
    "import tensorflow as tf\n",
    "import tensorflow_data_validation as tfdv\n",
    "import tensorflow_model_analysis as tfma\n",
    "import tensorflow_transform as tft\n",
    "import tensorflow as tf\n",
    "\n",
    "from tensorflow.keras.preprocessing import sequence\n",
    "from tensorflow.keras.preprocessing.text import Tokenizer\n",
    "\n",
    "from tensorflow.keras.layers import TextVectorization\n",
    "\n",
    "from tfx.components.common_nodes.importer_node import ImporterNode\n",
    "from tfx.orchestration.experimental.interactive.interactive_context import InteractiveContext\n",
    "from tfx.proto import example_gen_pb2\n",
    "from tensorflow_metadata.proto.v0 import schema_pb2, statistics_pb2, anomalies_pb2\n",
    "from tfx.components import StatisticsGen, CsvExampleGen, SchemaGen, ExampleValidator, Transform\n",
    "\n",
    "from tfx.components import Evaluator\n",
    "from tfx.components import ExampleValidator\n",
    "from tfx.components import InfraValidator\n",
    "from tfx.components import Pusher\n",
    "from tfx.components import Trainer\n",
    "from tfx.components import Transform\n",
    "from tfx.components import Tuner\n",
    "from tfx.dsl.components.base import executor_spec\n",
    "from tfx.components.trainer import executor as trainer_executor\n",
    "\n",
    "from tfx.proto import infra_validator_pb2\n",
    "from tfx.proto import pusher_pb2\n",
    "from tfx.proto import trainer_pb2\n",
    "\n",
    "from tfx.dsl.components.common.resolver import Resolver\n",
    "from tfx.dsl.experimental import latest_blessed_model_resolver\n",
    "from tfx.v1.dsl.experimental import LatestBlessedModelStrategy\n",
    "\n",
    "from tfx.types import Channel\n",
    "from tfx.types.standard_artifacts import Model\n",
    "from tfx.types.standard_artifacts import HyperParameters\n",
    "from tfx.types.standard_artifacts import ModelBlessing\n",
    "from tfx.types.standard_artifacts import InfraBlessing"
   ]
  },
  {
   "cell_type": "code",
   "execution_count": 2,
   "id": "ff57fc65-65f5-47b3-a04a-5c5220b5fa9b",
   "metadata": {},
   "outputs": [
    {
     "data": {
      "text/plain": [
       "'2.6.2'"
      ]
     },
     "execution_count": 2,
     "metadata": {},
     "output_type": "execute_result"
    }
   ],
   "source": [
    "tf.__version__"
   ]
  },
  {
   "cell_type": "code",
   "execution_count": 3,
   "id": "9e534f21-6a3c-426a-87f9-681ee43e5220",
   "metadata": {},
   "outputs": [
    {
     "data": {
      "text/plain": [
       "'1.4.0'"
      ]
     },
     "execution_count": 3,
     "metadata": {},
     "output_type": "execute_result"
    }
   ],
   "source": [
    "tfx.__version__"
   ]
  },
  {
   "cell_type": "code",
   "execution_count": 10,
   "id": "3632fc6f-bc47-4128-b20c-c89a8c19e3ba",
   "metadata": {},
   "outputs": [],
   "source": [
    "DATA_ROOT = 'gs://text-analysis-323506/covertype'\n",
    "ARTIFACT_STORE = os.path.join(os.sep, 'home', 'jupyter', 'artifact-store')\n",
    "SERVING_MODEL_DIR=os.path.join(os.sep, 'home', 'jupyter', 'serving_model')"
   ]
  },
  {
   "cell_type": "code",
   "execution_count": 11,
   "id": "42f485b5-d4df-4e6e-9139-1273a8ae28c0",
   "metadata": {},
   "outputs": [],
   "source": [
    "PIPELINE_NAME = 'covertype-analysis'\n",
    "PIPELINE_ROOT = os.path.join('/home/jupyter/', PIPELINE_NAME, time.strftime(\"%Y%m%d_%H%M%S\"))\n",
    "os.makedirs(PIPELINE_ROOT, exist_ok=True)"
   ]
  },
  {
   "cell_type": "code",
   "execution_count": 12,
   "id": "b161a9f4-8feb-4cf6-8afb-e47a7e13e35f",
   "metadata": {},
   "outputs": [
    {
     "name": "stderr",
     "output_type": "stream",
     "text": [
      "WARNING:absl:InteractiveContext metadata_connection_config not provided: using SQLite ML Metadata database at /home/jupyter/covertype-analysis/20211204_102754/metadata.sqlite.\n"
     ]
    }
   ],
   "source": [
    "context = InteractiveContext(\n",
    "    pipeline_name=PIPELINE_NAME,\n",
    "    pipeline_root=PIPELINE_ROOT,\n",
    "    metadata_connection_config=None)"
   ]
  },
  {
   "cell_type": "markdown",
   "id": "4d4dfe0f-8613-4aab-b195-adb41b167ce1",
   "metadata": {},
   "source": [
    " "
   ]
  },
  {
   "cell_type": "markdown",
   "id": "8798f817-27f5-4916-9776-ef24ee90d435",
   "metadata": {},
   "source": [
    "### CSV Example Generator"
   ]
  },
  {
   "cell_type": "code",
   "execution_count": 13,
   "id": "7d2eff15-6faa-4f8b-8cd9-9890402d2072",
   "metadata": {},
   "outputs": [],
   "source": [
    "output_config = example_gen_pb2.Output(\n",
    "    split_config=example_gen_pb2.SplitConfig(splits=[        \n",
    "        example_gen_pb2.SplitConfig.Split(name='train', hash_buckets=4),\n",
    "        example_gen_pb2.SplitConfig.Split(name='eval', hash_buckets=1)\n",
    "    ]))"
   ]
  },
  {
   "cell_type": "code",
   "execution_count": 14,
   "id": "88e2a524-ef71-405a-a387-272f759ee90f",
   "metadata": {},
   "outputs": [],
   "source": [
    "example_gen = CsvExampleGen(\n",
    "    input_base=DATA_ROOT,\n",
    "    output_config=output_config)"
   ]
  },
  {
   "cell_type": "code",
   "execution_count": null,
   "id": "19ff90b9-43ca-4a63-afac-8ec27d417f5f",
   "metadata": {},
   "outputs": [],
   "source": [
    "context.run(example_gen)"
   ]
  },
  {
   "cell_type": "code",
   "execution_count": 16,
   "id": "76579e9c-3a52-4791-8dd3-9c8d37c822e6",
   "metadata": {},
   "outputs": [],
   "source": [
    "examples_uri = example_gen.outputs['examples'].get()[0].uri"
   ]
  },
  {
   "cell_type": "code",
   "execution_count": 17,
   "id": "70b17c85-7ebb-4ca0-87ab-523dfb68f431",
   "metadata": {},
   "outputs": [],
   "source": [
    "tfrecord_filenames = [os.path.join(examples_uri, 'Split-train', name)\n",
    "                      for name in os.listdir(os.path.join(examples_uri, 'Split-train'))]"
   ]
  },
  {
   "cell_type": "code",
   "execution_count": 18,
   "id": "246efa2b-3ded-4193-83df-64efbf2c120f",
   "metadata": {},
   "outputs": [
    {
     "name": "stderr",
     "output_type": "stream",
     "text": [
      "2021-12-04 10:28:24.881727: I tensorflow/core/common_runtime/process_util.cc:146] Creating new thread pool with default inter op setting: 2. Tune using inter_op_parallelism_threads for best performance.\n"
     ]
    }
   ],
   "source": [
    "dataset = tf.data.TFRecordDataset(tfrecord_filenames, compression_type=\"GZIP\")"
   ]
  },
  {
   "cell_type": "code",
   "execution_count": 19,
   "id": "9f689416-400d-44e4-a2ef-ff8f56963354",
   "metadata": {},
   "outputs": [
    {
     "name": "stdout",
     "output_type": "stream",
     "text": [
      "Vertical_Distance_To_Hydrology: [101]\n",
      "Slope: [9]\n",
      "Wilderness_Area: [b'Commanche']\n",
      "Horizontal_Distance_To_Hydrology: [648]\n",
      "Horizontal_Distance_To_Fire_Points: [1871]\n",
      "Horizontal_Distance_To_Roadways: [757]\n",
      "Elevation: [3142]\n",
      "Hillshade_9am: [223]\n",
      "Aspect: [183]\n",
      "Hillshade_3pm: [157]\n",
      "Cover_Type: [1]\n",
      "Soil_Type: [b'C7757']\n",
      "Hillshade_Noon: [247]\n",
      "******\n",
      "Hillshade_3pm: [105]\n",
      "Hillshade_9am: [245]\n",
      "Aspect: [124]\n",
      "Slope: [16]\n",
      "Vertical_Distance_To_Hydrology: [9]\n",
      "Soil_Type: [b'C2704']\n",
      "Wilderness_Area: [b'Cache']\n",
      "Hillshade_Noon: [227]\n",
      "Elevation: [1967]\n",
      "Horizontal_Distance_To_Fire_Points: [451]\n",
      "Cover_Type: [2]\n",
      "Horizontal_Distance_To_Hydrology: [60]\n",
      "Horizontal_Distance_To_Roadways: [124]\n",
      "******\n"
     ]
    },
    {
     "name": "stderr",
     "output_type": "stream",
     "text": [
      "2021-12-04 10:28:24.986417: I tensorflow/compiler/mlir/mlir_graph_optimization_pass.cc:185] None of the MLIR Optimization Passes are enabled (registered 2)\n"
     ]
    }
   ],
   "source": [
    "for tfrecord in dataset.take(2):\n",
    "    example = tf.train.Example()\n",
    "    example.ParseFromString(tfrecord.numpy())\n",
    "    for name, feature in example.features.feature.items():\n",
    "        if feature.HasField('bytes_list'):\n",
    "            value = feature.bytes_list.value\n",
    "        if feature.HasField('float_list'):\n",
    "            value = feature.float_list.value\n",
    "        if feature.HasField('int64_list'):\n",
    "            value = feature.int64_list.value\n",
    "        print('{}: {}'.format(name, value))\n",
    "    print('******')"
   ]
  },
  {
   "cell_type": "markdown",
   "id": "cdc0ae16-ba34-4f5d-83b5-57b38df9f250",
   "metadata": {},
   "source": [
    "#### Train and eval datasets have been created properly !"
   ]
  },
  {
   "cell_type": "markdown",
   "id": "c51ee28f-1ef1-47ed-a5f1-0f4a49c839f3",
   "metadata": {},
   "source": [
    " "
   ]
  },
  {
   "cell_type": "markdown",
   "id": "f1941434-58e2-412c-8a37-111052bb8d6d",
   "metadata": {
    "tags": []
   },
   "source": [
    "### Statistics Generator"
   ]
  },
  {
   "cell_type": "code",
   "execution_count": 20,
   "id": "4dbae01a-a893-4de2-a403-a6a691ab9ff6",
   "metadata": {},
   "outputs": [],
   "source": [
    "statistics_gen = StatisticsGen(examples=example_gen.outputs['examples'])"
   ]
  },
  {
   "cell_type": "code",
   "execution_count": null,
   "id": "7f490db1-4e0e-4d70-9466-6fad8363e3c0",
   "metadata": {},
   "outputs": [],
   "source": [
    "context.run(statistics_gen)"
   ]
  },
  {
   "cell_type": "code",
   "execution_count": null,
   "id": "de85ed3b-8a37-4415-a88e-dfce6de805e0",
   "metadata": {},
   "outputs": [],
   "source": [
    "context.show(statistics_gen.outputs['statistics'])"
   ]
  },
  {
   "cell_type": "markdown",
   "id": "c4737174",
   "metadata": {},
   "source": [
    " "
   ]
  },
  {
   "cell_type": "markdown",
   "id": "f1d06f81",
   "metadata": {},
   "source": [
    "### Schema Generator"
   ]
  },
  {
   "cell_type": "code",
   "execution_count": 23,
   "id": "ec412517",
   "metadata": {},
   "outputs": [],
   "source": [
    "schema_gen = SchemaGen(\n",
    "    statistics=statistics_gen.outputs['statistics'],\n",
    "    infer_feature_shape=False)"
   ]
  },
  {
   "cell_type": "code",
   "execution_count": null,
   "id": "a9c69dee",
   "metadata": {},
   "outputs": [],
   "source": [
    "context.run(schema_gen)"
   ]
  },
  {
   "cell_type": "code",
   "execution_count": null,
   "id": "2ed916bd",
   "metadata": {},
   "outputs": [],
   "source": [
    "context.show(schema_gen.outputs['schema'])"
   ]
  },
  {
   "cell_type": "markdown",
   "id": "0a193914",
   "metadata": {},
   "source": [
    " "
   ]
  },
  {
   "cell_type": "code",
   "execution_count": 26,
   "id": "62d90789",
   "metadata": {},
   "outputs": [],
   "source": [
    "schema_proto_path = '{}/{}'.format(schema_gen.outputs['schema'].get()[0].uri, 'schema.pbtxt')\n",
    "schema = tfdv.load_schema_text(schema_proto_path)"
   ]
  },
  {
   "cell_type": "code",
   "execution_count": null,
   "id": "ff906e40-f2ca-4fde-aaea-2578db6b4f6b",
   "metadata": {},
   "outputs": [],
   "source": [
    "tfdv.set_domain(schema, 'Cover_Type', schema_pb2.IntDomain(name='Cover_Type', min=0, max=6, is_categorical=True))\n",
    "tfdv.set_domain(schema, 'Slope',  schema_pb2.IntDomain(name='Slope', min=0, max=90))\n",
    "\n",
    "tfdv.display_schema(schema=schema)"
   ]
  },
  {
   "cell_type": "code",
   "execution_count": null,
   "id": "36e22fc6-73a7-4f70-98b8-7d9ecd3f83c8",
   "metadata": {},
   "outputs": [],
   "source": [
    "tfdv.display_schema(schema=schema)"
   ]
  },
  {
   "cell_type": "markdown",
   "id": "6845be53-1502-413d-947c-c816abbaac2c",
   "metadata": {},
   "source": [
    "#### Write schema to new file"
   ]
  },
  {
   "cell_type": "code",
   "execution_count": null,
   "id": "cfa51bfc-13ed-400e-9c39-733a4767e4e7",
   "metadata": {},
   "outputs": [],
   "source": [
    "schema_dir = os.path.join(ARTIFACT_STORE, 'schema')\n",
    "tf.io.gfile.makedirs(schema_dir)\n",
    "schema_file = os.path.join(schema_dir, 'schema.pbtxt')\n",
    "\n",
    "tfdv.write_schema_text(schema, schema_file)\n",
    "\n",
    "!cat {schema_file}"
   ]
  },
  {
   "cell_type": "markdown",
   "id": "109c4022-bf2d-4415-9f47-667781875bec",
   "metadata": {},
   "source": [
    "### Schema Importer"
   ]
  },
  {
   "cell_type": "code",
   "execution_count": 30,
   "id": "22a4cdde-4682-49d2-b071-c0c5ce34590f",
   "metadata": {},
   "outputs": [],
   "source": [
    "schema_importer = tfx.dsl.components.common.importer.Importer(\n",
    "      source_uri=schema_dir,\n",
    "      artifact_type=tfx.types.standard_artifacts.Schema).with_id(\n",
    "          'schema_importer') "
   ]
  },
  {
   "cell_type": "code",
   "execution_count": null,
   "id": "071182aa-d66e-4ceb-aba3-0dd070c1e2de",
   "metadata": {},
   "outputs": [],
   "source": [
    "context.run(schema_importer)"
   ]
  },
  {
   "cell_type": "code",
   "execution_count": null,
   "id": "661e8e22-77ad-428c-be39-a32bd38c63e7",
   "metadata": {},
   "outputs": [],
   "source": [
    "context.show(schema_importer.outputs['result'])"
   ]
  },
  {
   "cell_type": "markdown",
   "id": "a4847112-74d6-4e10-9b83-b8e9dbc3529d",
   "metadata": {},
   "source": [
    " "
   ]
  },
  {
   "cell_type": "markdown",
   "id": "bb62a17a-2f86-488f-853d-05c06250b368",
   "metadata": {},
   "source": [
    "### ExampleValidator"
   ]
  },
  {
   "cell_type": "code",
   "execution_count": 33,
   "id": "31e167d8-c3a0-4d8b-95c2-b353cc74e171",
   "metadata": {},
   "outputs": [],
   "source": [
    "example_validator = ExampleValidator(    \n",
    "    statistics=statistics_gen.outputs['statistics'],\n",
    "    schema=schema_importer.outputs['result']).with_id(\n",
    "          'example_validator') "
   ]
  },
  {
   "cell_type": "code",
   "execution_count": null,
   "id": "f24c1639-401f-4792-a20c-6ddfcb20036e",
   "metadata": {},
   "outputs": [],
   "source": [
    "context.run(example_validator)"
   ]
  },
  {
   "cell_type": "code",
   "execution_count": null,
   "id": "f1eef107-30f4-41de-b778-c2f8ac24f262",
   "metadata": {},
   "outputs": [],
   "source": [
    "train_uri = example_validator.outputs['anomalies'].get()[0].uri\n",
    "train_anomalies_filename = os.path.join(train_uri, \"Split-train/SchemaDiff.pb\")\n",
    "!cat $train_anomalies_filename"
   ]
  },
  {
   "cell_type": "code",
   "execution_count": 36,
   "id": "ba2681a6-eb8f-48fd-83ab-6f40f9b1c43f",
   "metadata": {},
   "outputs": [
    {
     "data": {
      "text/html": [
       "<b>Artifact at /home/jupyter/covertype-analysis/20211204_102754/example_validator/anomalies/5</b><br/><br/>"
      ],
      "text/plain": [
       "<IPython.core.display.HTML object>"
      ]
     },
     "metadata": {},
     "output_type": "display_data"
    },
    {
     "data": {
      "text/html": [
       "<div><b>'train' split:</b></div><br/>"
      ],
      "text/plain": [
       "<IPython.core.display.HTML object>"
      ]
     },
     "metadata": {},
     "output_type": "display_data"
    },
    {
     "data": {
      "text/html": [
       "<h4 style=\"color:green;\">No anomalies found.</h4>"
      ],
      "text/plain": [
       "<IPython.core.display.HTML object>"
      ]
     },
     "metadata": {},
     "output_type": "display_data"
    },
    {
     "data": {
      "text/html": [
       "<div><b>'eval' split:</b></div><br/>"
      ],
      "text/plain": [
       "<IPython.core.display.HTML object>"
      ]
     },
     "metadata": {},
     "output_type": "display_data"
    },
    {
     "data": {
      "text/html": [
       "<h4 style=\"color:green;\">No anomalies found.</h4>"
      ],
      "text/plain": [
       "<IPython.core.display.HTML object>"
      ]
     },
     "metadata": {},
     "output_type": "display_data"
    }
   ],
   "source": [
    "context.show(example_validator.outputs['anomalies'])"
   ]
  },
  {
   "cell_type": "markdown",
   "id": "e7a2a825-12f3-4725-a2d4-1989a4a97b2e",
   "metadata": {},
   "source": [
    " "
   ]
  },
  {
   "cell_type": "markdown",
   "id": "605e1d9e-303d-44e0-bb92-8159d40d5c3e",
   "metadata": {},
   "source": [
    "### Transform"
   ]
  },
  {
   "cell_type": "code",
   "execution_count": 38,
   "id": "489fa77a-9263-44c7-b0c8-28b3a8e4ed8e",
   "metadata": {},
   "outputs": [],
   "source": [
    "TRANSFORM_MODULE = 'preprocessing.py'"
   ]
  },
  {
   "cell_type": "code",
   "execution_count": 41,
   "id": "c47d398a-df41-40d7-9d22-7560a7df3b4a",
   "metadata": {},
   "outputs": [],
   "source": [
    "transform = Transform(\n",
    "    examples=example_gen.outputs['examples'],\n",
    "    schema=schema_importer.outputs['result'],\n",
    "    module_file=TRANSFORM_MODULE)"
   ]
  },
  {
   "cell_type": "code",
   "execution_count": null,
   "id": "d75eee48-7d12-4a88-88f1-47e4fd9be89d",
   "metadata": {},
   "outputs": [],
   "source": [
    "context.run(transform)"
   ]
  },
  {
   "cell_type": "code",
   "execution_count": 43,
   "id": "b98e74ed-9840-46c6-a4ed-606c2819ffa9",
   "metadata": {},
   "outputs": [
    {
     "data": {
      "text/plain": [
       "'/home/jupyter/covertype-analysis/20211204_102754/Transform/transformed_examples/7'"
      ]
     },
     "execution_count": 43,
     "metadata": {},
     "output_type": "execute_result"
    }
   ],
   "source": [
    "transform.outputs['transformed_examples'].get()[0].uri"
   ]
  },
  {
   "cell_type": "code",
   "execution_count": 44,
   "id": "f1ec01f9-462d-4de2-83a4-8950951bcb79",
   "metadata": {},
   "outputs": [
    {
     "data": {
      "text/plain": [
       "['Split-train', 'Split-eval']"
      ]
     },
     "execution_count": 44,
     "metadata": {},
     "output_type": "execute_result"
    }
   ],
   "source": [
    "os.listdir(transform.outputs['transformed_examples'].get()[0].uri)"
   ]
  },
  {
   "cell_type": "code",
   "execution_count": 45,
   "id": "ee660fd7-8d55-498e-ab31-cf0dc7c6fcc6",
   "metadata": {},
   "outputs": [],
   "source": [
    "transform_uri = transform.outputs['transformed_examples'].get()[0].uri\n",
    "tfrecord_filenames = [os.path.join(transform_uri,  'Split-train', name)\n",
    "                      for name in os.listdir(os.path.join(transform_uri, 'Split-train'))]"
   ]
  },
  {
   "cell_type": "code",
   "execution_count": 46,
   "id": "eb93114f-1bec-4f24-9281-778ec4aabf77",
   "metadata": {},
   "outputs": [
    {
     "name": "stdout",
     "output_type": "stream",
     "text": [
      "Hillshade_9am_xf: [0.4025527536869049]\n",
      "******\n",
      "Elevation_xf: [-3.5473971366882324]\n",
      "******\n"
     ]
    }
   ],
   "source": [
    "dataset = tf.data.TFRecordDataset(tfrecord_filenames, compression_type=\"GZIP\")\n",
    "for tfrecord in dataset.take(2):\n",
    "    example = tf.train.Example()\n",
    "    example.ParseFromString(tfrecord.numpy())\n",
    "    for name, feature in example.features.feature.items():\n",
    "        if feature.HasField('bytes_list'):\n",
    "            value = feature.bytes_list.value\n",
    "        if feature.HasField('float_list'):\n",
    "            value = feature.float_list.value\n",
    "        if feature.HasField('int64_list'):\n",
    "            value = feature.int64_list.value\n",
    "    print('{}: {}'.format(name, value))\n",
    "    print('******')"
   ]
  },
  {
   "cell_type": "markdown",
   "id": "668332bc-f6da-4d93-b7bf-f45b6013f90c",
   "metadata": {},
   "source": [
    " "
   ]
  },
  {
   "cell_type": "markdown",
   "id": "9738b636-b382-4569-97f5-391466086456",
   "metadata": {},
   "source": [
    "### Trainer"
   ]
  },
  {
   "cell_type": "code",
   "execution_count": 49,
   "id": "460844ef-c43a-4270-9ed6-c0fd77c789e3",
   "metadata": {},
   "outputs": [],
   "source": [
    "TRAINER_MODULE_FILE = 'model.py'"
   ]
  },
  {
   "cell_type": "code",
   "execution_count": 54,
   "id": "aa6d90ae-3287-49e4-ba38-028fedac5938",
   "metadata": {},
   "outputs": [
    {
     "name": "stderr",
     "output_type": "stream",
     "text": [
      "WARNING:absl:`custom_executor_spec` is deprecated. Please customize component directly.\n",
      "WARNING:absl:`transformed_examples` is deprecated. Please use `examples` instead.\n"
     ]
    }
   ],
   "source": [
    "trainer = Trainer(\n",
    "    custom_executor_spec=executor_spec.ExecutorClassSpec(trainer_executor.GenericExecutor),\n",
    "    module_file=TRAINER_MODULE_FILE,\n",
    "    transformed_examples=transform.outputs['transformed_examples'],\n",
    "    schema=schema_importer.outputs['result'],\n",
    "    transform_graph=transform.outputs['transform_graph'],\n",
    "    train_args=trainer_pb2.TrainArgs(splits=['train'], num_steps=5000),\n",
    "    eval_args=trainer_pb2.EvalArgs(splits=['eval'], num_steps=1000))"
   ]
  },
  {
   "cell_type": "code",
   "execution_count": null,
   "id": "a5e44bf9-fddc-4a76-a079-30109b9df414",
   "metadata": {},
   "outputs": [],
   "source": [
    "context.run(trainer)"
   ]
  },
  {
   "cell_type": "markdown",
   "id": "76f9d1e3-5bed-45bb-b5cd-5e44e73cd2db",
   "metadata": {},
   "source": [
    "#### Tensorboard"
   ]
  },
  {
   "cell_type": "code",
   "execution_count": 56,
   "id": "89318cfc-3af4-4d5a-896d-fdcc31f7e213",
   "metadata": {},
   "outputs": [
    {
     "name": "stdout",
     "output_type": "stream",
     "text": [
      "/home/jupyter/covertype-analysis/20211204_102754/Trainer/model_run/10\n"
     ]
    }
   ],
   "source": [
    "logs_path = trainer.outputs['model_run'].get()[0].uri\n",
    "print(logs_path)"
   ]
  },
  {
   "cell_type": "markdown",
   "id": "8956c001-aaa9-4e5a-a936-2f09b60a620b",
   "metadata": {},
   "source": [
    " "
   ]
  },
  {
   "cell_type": "markdown",
   "id": "60e47eb3-70b4-4087-b3d0-333c145d7a8b",
   "metadata": {},
   "source": [
    "### Tuner"
   ]
  },
  {
   "cell_type": "code",
   "execution_count": 57,
   "id": "ae0429d7-08d3-4ac5-b21f-b5a233974478",
   "metadata": {},
   "outputs": [],
   "source": [
    "tuner = Tuner(\n",
    "        module_file=TRAINER_MODULE_FILE,\n",
    "        examples=transform.outputs['transformed_examples'],\n",
    "        transform_graph=transform.outputs['transform_graph'],\n",
    "        train_args=trainer_pb2.TrainArgs(num_steps=1000),\n",
    "        eval_args=trainer_pb2.EvalArgs(num_steps=500))"
   ]
  },
  {
   "cell_type": "markdown",
   "id": "b4f77f1d-ea93-43fb-812d-fd824f7a084b",
   "metadata": {},
   "source": [
    "context.run(tuner)"
   ]
  },
  {
   "cell_type": "markdown",
   "id": "65b5a7eb-97e8-480f-9752-45ab9e971998",
   "metadata": {},
   "source": [
    " #### Retraining with best parameters"
   ]
  },
  {
   "cell_type": "code",
   "execution_count": 64,
   "id": "29d57d9e-006b-499c-9f5b-97b86b47bd96",
   "metadata": {},
   "outputs": [],
   "source": [
    "hparams_importer = tfx.dsl.components.common.importer.Importer(\n",
    "    # This can be Tuner's output file or manually edited file. The file contains\n",
    "    # text format of hyperparameters (kerastuner.HyperParameters.get_config())\n",
    "    source_uri=tuner.outputs['best_hyperparameters'].get()[0].uri,\n",
    "    artifact_type=HyperParameters).with_id('hparams_importer') "
   ]
  },
  {
   "cell_type": "code",
   "execution_count": null,
   "id": "5383cb04-4a46-4919-847c-ad503f77f7f0",
   "metadata": {},
   "outputs": [],
   "source": [
    "context.run(hparams_importer)"
   ]
  },
  {
   "cell_type": "markdown",
   "id": "96f13acf-7699-4194-ba5d-ff903e4841f2",
   "metadata": {},
   "source": [
    "#### Train"
   ]
  },
  {
   "cell_type": "code",
   "execution_count": 66,
   "id": "e88fe31a-af88-4160-abf2-6c4cc38755f3",
   "metadata": {},
   "outputs": [
    {
     "name": "stderr",
     "output_type": "stream",
     "text": [
      "WARNING:absl:`custom_executor_spec` is deprecated. Please customize component directly.\n",
      "WARNING:absl:`transformed_examples` is deprecated. Please use `examples` instead.\n"
     ]
    }
   ],
   "source": [
    "trainer = Trainer(\n",
    "    custom_executor_spec=executor_spec.ExecutorClassSpec(trainer_executor.GenericExecutor),\n",
    "    module_file=TRAINER_MODULE_FILE,\n",
    "    transformed_examples=transform.outputs['transformed_examples'],\n",
    "    schema=schema_importer.outputs['result'],\n",
    "    transform_graph=transform.outputs['transform_graph'],\n",
    "    hyperparameters=hparams_importer.outputs['result'],\n",
    "    train_args=trainer_pb2.TrainArgs(splits=['train'], num_steps=5000),\n",
    "    eval_args=trainer_pb2.EvalArgs(splits=['eval'], num_steps=1000))"
   ]
  },
  {
   "cell_type": "code",
   "execution_count": null,
   "id": "16e6fa22-0bb1-4843-be0d-360603573757",
   "metadata": {},
   "outputs": [],
   "source": [
    "context.run(trainer)"
   ]
  },
  {
   "cell_type": "markdown",
   "id": "52f222f9-19e0-4fc8-a32d-1e13bb39a664",
   "metadata": {},
   "source": [
    " "
   ]
  },
  {
   "cell_type": "markdown",
   "id": "dc37e1e4-6475-4e63-8dc3-9d32ac88fc18",
   "metadata": {},
   "source": [
    "### Evaluator"
   ]
  },
  {
   "cell_type": "code",
   "execution_count": 97,
   "id": "e2fd8323-5cea-4072-a070-0a1760dec515",
   "metadata": {},
   "outputs": [],
   "source": [
    "model_resolver = Resolver(\n",
    "      strategy_class=LatestBlessedModelStrategy,\n",
    "      model=Channel(type=Model),\n",
    "      model_blessing=Channel(type=ModelBlessing)\n",
    ").with_id('latest_blessed_model_resolver')"
   ]
  },
  {
   "cell_type": "code",
   "execution_count": null,
   "id": "fe011964-39bd-437a-a646-e04b52dd52fa",
   "metadata": {},
   "outputs": [],
   "source": [
    "context.run(model_resolver)"
   ]
  },
  {
   "cell_type": "code",
   "execution_count": 103,
   "id": "82b4e5a9-e1ff-4537-992e-670234ec543e",
   "metadata": {},
   "outputs": [],
   "source": [
    "accuracy_threshold = tfma.MetricThreshold(\n",
    "                value_threshold=tfma.GenericValueThreshold(\n",
    "                    lower_bound={'value': 0.5},\n",
    "                    upper_bound={'value': 0.99})\n",
    "                )\n",
    "\n",
    "metrics_specs = tfma.MetricsSpec(\n",
    "                   metrics = [\n",
    "                       tfma.MetricConfig(class_name='SparseCategoricalAccuracy',\n",
    "                           threshold=accuracy_threshold),\n",
    "                       tfma.MetricConfig(class_name='ExampleCount')])"
   ]
  },
  {
   "cell_type": "code",
   "execution_count": 104,
   "id": "ff0e7d3e-73b1-4ed7-892b-bbdbd76ebb95",
   "metadata": {},
   "outputs": [],
   "source": [
    "eval_config = tfma.EvalConfig(\n",
    "    model_specs=[\n",
    "        tfma.ModelSpec(label_key='Cover_Type')\n",
    "    ],\n",
    "    metrics_specs=[metrics_specs],\n",
    "    slicing_specs=[\n",
    "        tfma.SlicingSpec(),\n",
    "        tfma.SlicingSpec(feature_keys=['Wilderness_Area'])\n",
    "    ]\n",
    ")"
   ]
  },
  {
   "cell_type": "code",
   "execution_count": 105,
   "id": "342f9296-edca-4412-bd49-f9b3f4f55237",
   "metadata": {},
   "outputs": [],
   "source": [
    "model_analyzer = Evaluator(\n",
    "    examples=example_gen.outputs['examples'],\n",
    "    model=trainer.outputs['model'],\n",
    "    baseline_model=model_resolver.outputs['model'],\n",
    "    eval_config=eval_config\n",
    ")"
   ]
  },
  {
   "cell_type": "code",
   "execution_count": null,
   "id": "2ce9755b-8d8a-47dd-998d-36933966219d",
   "metadata": {},
   "outputs": [],
   "source": [
    "context.run(model_analyzer, enable_cache=False)"
   ]
  },
  {
   "cell_type": "code",
   "execution_count": 108,
   "id": "a33cf3d5-5f81-459b-a857-8cb4f42ff55c",
   "metadata": {},
   "outputs": [
    {
     "name": "stdout",
     "output_type": "stream",
     "text": [
      "total 0\n",
      "-rw-r--r-- 1 jupyter jupyter 0 Dec  4 18:34 BLESSED\n"
     ]
    }
   ],
   "source": [
    "model_blessing_uri = model_analyzer.outputs['blessing'].get()[0].uri\n",
    "!ls -l {model_blessing_uri}"
   ]
  },
  {
   "cell_type": "code",
   "execution_count": 110,
   "id": "a7e840b0-f7f6-4050-b42e-87fe70c7843c",
   "metadata": {},
   "outputs": [
    {
     "name": "stdout",
     "output_type": "stream",
     "text": [
      "attributions  eval_config.json\tmetrics  plots\tvalidations\n"
     ]
    }
   ],
   "source": [
    "evaluation_uri = model_analyzer.outputs['evaluation'].get()[0].uri\n",
    "!ls {evaluation_uri}"
   ]
  },
  {
   "cell_type": "code",
   "execution_count": null,
   "id": "17be81e2-9121-445d-b471-517ceb6aa9c5",
   "metadata": {},
   "outputs": [],
   "source": [
    "eval_result = tfma.load_eval_result(evaluation_uri)\n",
    "eval_result"
   ]
  },
  {
   "cell_type": "code",
   "execution_count": 118,
   "id": "1f080dbd-a9f5-4db7-bdbd-91e4232592eb",
   "metadata": {},
   "outputs": [
    {
     "data": {
      "application/vnd.jupyter.widget-view+json": {
       "model_id": "9716822dfe9148d1aa2e96346a11f1e5",
       "version_major": 2,
       "version_minor": 0
      },
      "text/plain": [
       "SlicingMetricsViewer(config={'weightedExamplesColumn': 'example_count'}, data=[{'slice': 'Overall', 'metrics':…"
      ]
     },
     "metadata": {},
     "output_type": "display_data"
    }
   ],
   "source": [
    "tfma.view.render_slicing_metrics(eval_result)"
   ]
  },
  {
   "cell_type": "code",
   "execution_count": 119,
   "id": "abe4d9de-0a14-41f9-b288-a74eea6cc8de",
   "metadata": {},
   "outputs": [
    {
     "data": {
      "application/vnd.jupyter.widget-view+json": {
       "model_id": "b36cbeb12eb14bd7b61cb7f5e6a8a361",
       "version_major": 2,
       "version_minor": 0
      },
      "text/plain": [
       "SlicingMetricsViewer(config={'weightedExamplesColumn': 'example_count'}, data=[{'slice': 'Wilderness_Area:Cach…"
      ]
     },
     "metadata": {},
     "output_type": "display_data"
    }
   ],
   "source": [
    "tfma.view.render_slicing_metrics(\n",
    "    eval_result, slicing_column='Wilderness_Area')"
   ]
  },
  {
   "cell_type": "markdown",
   "id": "b7f2d3ab",
   "metadata": {},
   "source": [
    " "
   ]
  },
  {
   "cell_type": "markdown",
   "id": "13bc275a",
   "metadata": {},
   "source": [
    "### InfraValidator"
   ]
  },
  {
   "cell_type": "code",
   "execution_count": 120,
   "id": "35b2d13c",
   "metadata": {},
   "outputs": [],
   "source": [
    "infra_validator = InfraValidator(\n",
    "    model=trainer.outputs['model'],\n",
    "    examples=example_gen.outputs['examples'],\n",
    "    serving_spec=infra_validator_pb2.ServingSpec(\n",
    "        tensorflow_serving=infra_validator_pb2.TensorFlowServing(\n",
    "            tags=['latest']),\n",
    "      local_docker=infra_validator_pb2.LocalDockerConfig(),\n",
    "  ),\n",
    "    validation_spec=infra_validator_pb2.ValidationSpec(\n",
    "        max_loading_time_seconds=60,\n",
    "        num_tries=5,\n",
    "    ),    \n",
    "  request_spec=infra_validator_pb2.RequestSpec(\n",
    "      tensorflow_serving=infra_validator_pb2.TensorFlowServingRequestSpec(),\n",
    "          num_examples=5,\n",
    "      )\n",
    ")"
   ]
  },
  {
   "cell_type": "code",
   "execution_count": null,
   "id": "15dafef2",
   "metadata": {},
   "outputs": [],
   "source": [
    "context.run(infra_validator, enable_cache=False)"
   ]
  },
  {
   "cell_type": "markdown",
   "id": "62bd6b70-2439-4df8-a97b-68b41f7cd9c0",
   "metadata": {},
   "source": [
    " "
   ]
  },
  {
   "cell_type": "markdown",
   "id": "7f39895f-3757-42e3-b910-63bd82daad48",
   "metadata": {},
   "source": [
    "### Pusher"
   ]
  },
  {
   "cell_type": "code",
   "execution_count": null,
   "id": "bd68f229-7eb2-4729-86f8-d2233bdcb46f",
   "metadata": {},
   "outputs": [],
   "source": [
    "trainer.outputs['model']"
   ]
  },
  {
   "cell_type": "code",
   "execution_count": 123,
   "id": "b48f6ee6-407c-4d9c-a6da-3f99f677949b",
   "metadata": {},
   "outputs": [],
   "source": [
    "pusher = Pusher(\n",
    "    model=trainer.outputs['model'],\n",
    "    model_blessing=model_analyzer.outputs['blessing'],\n",
    "    infra_blessing=infra_validator.outputs['blessing'],\n",
    "    push_destination=pusher_pb2.PushDestination(\n",
    "        filesystem=pusher_pb2.PushDestination.Filesystem(\n",
    "            base_directory=SERVING_MODEL_DIR)))"
   ]
  },
  {
   "cell_type": "code",
   "execution_count": null,
   "id": "8fdcd0ce-fcf2-470c-a5c9-5146e22b535e",
   "metadata": {},
   "outputs": [],
   "source": [
    "context.run(pusher)"
   ]
  },
  {
   "cell_type": "code",
   "execution_count": null,
   "id": "8160bac8-9fbc-4879-ade3-d79e03f946f9",
   "metadata": {},
   "outputs": [],
   "source": [
    "pusher.outputs"
   ]
  },
  {
   "cell_type": "code",
   "execution_count": 126,
   "id": "7d47a02f-8280-47b7-8e54-f783aafbaaf7",
   "metadata": {},
   "outputs": [],
   "source": [
    "latest_pushed_model = os.path.join(SERVING_MODEL_DIR, max(os.listdir(SERVING_MODEL_DIR)))"
   ]
  },
  {
   "cell_type": "code",
   "execution_count": 130,
   "id": "8956a659-067b-474d-a17d-3c65afd5cdd8",
   "metadata": {},
   "outputs": [
    {
     "name": "stdout",
     "output_type": "stream",
     "text": [
      "assets\n",
      "keras_metadata.pb\n",
      "saved_model.pb\n",
      "variables\n"
     ]
    }
   ],
   "source": [
    "_ = os.system(f\"ls {latest_pushed_model}\")"
   ]
  },
  {
   "cell_type": "code",
   "execution_count": null,
   "id": "30738428-c366-4779-9866-1976401fdddc",
   "metadata": {},
   "outputs": [],
   "source": []
  }
 ],
 "metadata": {
  "environment": {
   "kernel": "python3",
   "name": "tf2-gpu.2-6.m87",
   "type": "gcloud",
   "uri": "gcr.io/deeplearning-platform-release/tf2-gpu.2-6:m87"
  },
  "kernelspec": {
   "display_name": "Python 3",
   "language": "python",
   "name": "python3"
  },
  "language_info": {
   "codemirror_mode": {
    "name": "ipython",
    "version": 3
   },
   "file_extension": ".py",
   "mimetype": "text/x-python",
   "name": "python",
   "nbconvert_exporter": "python",
   "pygments_lexer": "ipython3",
   "version": "3.8.8"
  }
 },
 "nbformat": 4,
 "nbformat_minor": 5
}
